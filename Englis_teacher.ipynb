{
  "nbformat": 4,
  "nbformat_minor": 0,
  "metadata": {
    "colab": {
      "name": "Englis_teacher.ipynb",
      "provenance": [],
      "collapsed_sections": []
    },
    "kernelspec": {
      "name": "python3",
      "display_name": "Python 3"
    }
  },
  "cells": [
    {
      "cell_type": "code",
      "metadata": {
        "id": "v0hM5tOCPzwD"
      },
      "source": [
        ""
      ],
      "execution_count": null,
      "outputs": []
    },
    {
      "cell_type": "code",
      "metadata": {
        "id": "0pzkd3UU6rLe",
        "outputId": "93e07ed9-64dc-4431-ee15-0247fcec8f92",
        "colab": {
          "base_uri": "https://localhost:8080/",
          "height": 33
        }
      },
      "source": [
        "from google.colab import drive\n",
        "drive.mount('/content/gdrive', force_remount=True)"
      ],
      "execution_count": 1,
      "outputs": [
        {
          "output_type": "stream",
          "text": [
            "Mounted at /content/gdrive\n"
          ],
          "name": "stdout"
        }
      ]
    },
    {
      "cell_type": "code",
      "metadata": {
        "id": "8E26f1DOPqbM"
      },
      "source": [
        "import random\n",
        "from random import randint\n",
        "db = {\"orange\": \"апельсин\", \"apple\": \"яблоко\", \"july\": \"июль\", \"four\": \"четыре\", \"march\": \"март\", \"book\": \"книга\", \"pear\": \"груша\", \"pineappe\": \"ананас\", \"car\": \"машина\", \"ereser\": \"резинка\", \"mountain\": \"гора\", \"floor\": \"пол\", \"neighbour\": \"сосед\", \"dour\": \"дверь\", \"box\": \"коробка\", \"wall\": \"стена\", \"ball\": \"мяч\", \"color\": \"цвет\", \"boy\": \"мальчик\", \"inc\": \"чернила\", \"do\": \"делать\", \"data\": \"дата\", \"pen\": \"ручка\", \"bus\": \"автобус\", \"desk\": \"парта\", \"mouse\": \"мышка\", \"or\": \"или\", \"else\": \"иначе\", \"if\": \"если\", \"key\": \"ключ\", \"win\": \"победа\", \"sleep\": \"спать\", \"teacher\": \"учитель\", \"bag\": \"сумка\", \"hide\": \"прятаться\", \"seek\": \"искать\", \"shocolate\": \"шоколад\", \"sweet\": \"конфета\", \"street\": \"улица\", \"icecrem\": \"мороженное\", \"once\": \"однажды\", \"tooth\": \"зубы\", \"horse\": \"лошадь\", \"next\": \"следующий\", \"blue\": \"синий\", \"paper\": \"бумага\", \"group\": \"группа\", \"music\": \"музыка\", \"second\": \"секунда\", \"have\": \"иметь\", \"name\": \"имя\", \"give\": \"дай\", \"get\": \"брать\", \"feed\": \"кормить\", \"why\": \"почему\", \"who\": \"кто\", \"white\": \"белый\", \"red\": \"красный\", \"yellow\": \"желтый\", \"my\": \"мое\"}"
      ],
      "execution_count": 2,
      "outputs": []
    },
    {
      "cell_type": "code",
      "metadata": {
        "id": "FIWFReoP6-JC"
      },
      "source": [
        "def write_score(name, point):\n",
        "    \"\"\"\n",
        "    :param name: name player\n",
        "    :param point: score\n",
        "    :return: None\n",
        "    \"\"\"\n",
        "    path = \"/content/gdrive/My Drive/COLAB_INAL/CLASS_WORKS/file_of_scores.txt\"\n",
        "    with open(path, \"r\") as f:\n",
        "        d = f.readlines()\n",
        "    is_add = False\n",
        "    for i in range(len(d)):\n",
        "        if name in d[i]:\n",
        "            new_point = int(d[i].split(\"-\")[1]) + point\n",
        "            d[i] = name + \" - \" + str(new_point) + \"\\n\"\n",
        "            is_add = True\n",
        "            break\n",
        "\n",
        "    if not is_add:\n",
        "        text = name + \" - \" + str(point) + \"\\n\"\n",
        "        d.append(text)\n",
        "\n",
        "    text = \"\"\n",
        "    for line in d:\n",
        "        text += line\n",
        "\n",
        "    with open(path, \"w\") as f:\n",
        "        f.write(text)"
      ],
      "execution_count": 4,
      "outputs": []
    },
    {
      "cell_type": "code",
      "metadata": {
        "id": "B7LVOeRhQCwz"
      },
      "source": [
        "def show_helps(letters, word):\n",
        "    show = []\n",
        "    for i in range(len(db[word])):\n",
        "        show.append('_ ')\n",
        "    for x in letters:\n",
        "        show[x] = db[word][x]\n",
        "    show_letters = \"\"\n",
        "    for i in show:\n",
        "        show_letters += i\n",
        "    return show_letters"
      ],
      "execution_count": 5,
      "outputs": []
    },
    {
      "cell_type": "code",
      "metadata": {
        "id": "iXvkJ5VJQL0x"
      },
      "source": [
        "def guess_word(word):\n",
        "    max_XP = 10\n",
        "    help_letters = []\n",
        "    while True:\n",
        "        print(word, \"in russian\")\n",
        "        answer = input(\"\")\n",
        "        if answer == db[word]:\n",
        "            print(\"Excellent! You guessed right, you spent\", str(10 - max_XP + 1), \"tries\") \n",
        "            return max_XP\n",
        "        else:\n",
        "            ran = randint(0, len(db[word])-1)\n",
        "            if ran in help_letters:\n",
        "                ran = randint(0, len(db[word])-1)\n",
        "            help_letters.append(ran)\n",
        "            print(\"Sorry, but you didn't guess right:( Try again\")\n",
        "            print(show_helps(help_letters, word))\n",
        "            if max_XP > 0:\n",
        "                max_XP -= 1"
      ],
      "execution_count": 6,
      "outputs": []
    },
    {
      "cell_type": "code",
      "metadata": {
        "id": "v2bTFdDL7RR2"
      },
      "source": [
        "path = \"/content/gdrive/My Drive/COLAB_INAL/CLASS_WORKS/file_of_scores.txt\"\n",
        "with open(path, \"w\") as f:\n",
        "  f.write('')"
      ],
      "execution_count": 3,
      "outputs": []
    },
    {
      "cell_type": "code",
      "metadata": {
        "id": "1IagmXRrB0cT"
      },
      "source": [
        "def guess_word_by_variance(word):\n",
        "    max_XP = 5\n",
        "    print(word, \"in english, choose variance follow\")\n",
        "    some_words = random.sample(list(db.values()), 4)\n",
        "    some_words[randint(0, 3)] = db[word]\n",
        "    print(some_words)\n",
        "    while True:\n",
        "        answer = input()\n",
        "        if answer == db[word] or answer == str(some_words.index(db[word]) + 1):\n",
        "            print(\"Excellent! You guessed right, you spent\", str(5 - max_XP + 1), \"tries\")\n",
        "            return max_XP\n",
        "        else:\n",
        "            print(\"Sorry, but you didn't guess right:( Try again\")\n",
        "            max_XP -= 1"
      ],
      "execution_count": 7,
      "outputs": []
    },
    {
      "cell_type": "code",
      "metadata": {
        "id": "nM9IFIvY7FOW"
      },
      "source": [
        "db_sentence = {\"right\": \"You guessed ____, you spent 6 tries\",\n",
        "               \"choose\": \"____ variance follow\",\n",
        "               \"name\": \"my ____ is Max\",\n",
        "               \"eated\": \"I ____ apple\",\n",
        "               \"buys\": \"My friend ____ a black phone\"}\n",
        "def guess_word_by_sentence(word):\n",
        "  XP = 0\n",
        "  print(\"choose the correct option for this sentence: \", db_sentence[word])\n",
        "  some_words = random.sample(list(db_sentence.keys()), 4)\n",
        "  if word in some_words:\n",
        "    print(some_words)\n",
        "  else:\n",
        "    some_words[randint(0, 3)] = word\n",
        "    print(some_words)  \n",
        "  while True:\n",
        "    answer = input(': ')\n",
        "    if answer == word or answer == str(some_words.index(word) + 1):\n",
        "      XP += 5\n",
        "      print(\"Congratulation! You guessed right, you spent\", str(XP), \"tries\")\n",
        "      break\n",
        "    else:\n",
        "      print(\"Sorry, but you didn't guess right:( Try again\")\n",
        "  return XP "
      ],
      "execution_count": 16,
      "outputs": []
    },
    {
      "cell_type": "code",
      "metadata": {
        "id": "6C8WSrx_7leA",
        "outputId": "6c60e873-47b3-453c-ee54-76129b7e7adf",
        "colab": {
          "base_uri": "https://localhost:8080/",
          "height": 1000
        }
      },
      "source": [
        "if __name__ == \"__main__\":\n",
        "    print(\"Hello! what's your name?\")\n",
        "    name = input(\" : \")\n",
        "    XP = 0\n",
        "    db = load_db()\n",
        "    while True:\n",
        "        print(\"\\nwhat mode do you prefer? \\nwrite 1 if guess word by variance, write 2 if guess word by letters, write 3 sentence write exit to close program\")\n",
        "        mode = input()\n",
        "        if mode == '1':\n",
        "            tasks = random.sample(db.keys(), 5)\n",
        "            for word in tasks:\n",
        "                XP += guess_word_by_variance(word)\n",
        "        elif mode == '2':\n",
        "            tasks = random.sample(db.keys(), 5)\n",
        "            for word in tasks:\n",
        "                XP += guess_word(word)\n",
        "        elif mode == '3':\n",
        "            tasks = random.sample(db_sentence.keys(), 5)\n",
        "            for word in tasks:\n",
        "              XP += guess_word_by_sentence(word)\n",
        "        elif mode == \"exit\":\n",
        "            break\n",
        "        print(\"Congratulations! You scored {} XP\".format(XP))\n",
        "\n",
        "    write_score(name, XP)"
      ],
      "execution_count": 20,
      "outputs": [
        {
          "output_type": "stream",
          "text": [
            "Hello! what's your name?\n",
            " : Inal\n",
            "\n",
            "what mode do you prefer? \n",
            "write 1 if guess word by variance, write 2 if guess word by letters, write 3 sentence write exit to close program\n",
            "3\n",
            "choose the correct option for this sentence:  ____ variance follow\n",
            "['choose', 'name', 'eated', 'right']\n",
            ": 1\n",
            "Congratulation! You guessed right, you spent 5 tries\n",
            "choose the correct option for this sentence:  You guessed ____, you spent 6 tries\n",
            "['right', 'name', 'buys', 'eated']\n",
            ": name\n",
            "Sorry, but you didn't guess right:( Try again\n",
            ": \n",
            "Sorry, but you didn't guess right:( Try again\n",
            ": 1\n",
            "Congratulation! You guessed right, you spent 5 tries\n",
            "choose the correct option for this sentence:  I ____ apple\n",
            "['buys', 'name', 'right', 'eated']\n",
            ": 4\n",
            "Congratulation! You guessed right, you spent 5 tries\n",
            "choose the correct option for this sentence:  My friend ____ a black phone\n",
            "['right', 'buys', 'choose', 'name']\n",
            ": buys\n",
            "Congratulation! You guessed right, you spent 5 tries\n",
            "choose the correct option for this sentence:  my ____ is Max\n",
            "['name', 'buys', 'right', 'eated']\n",
            ": name\n",
            "Congratulation! You guessed right, you spent 5 tries\n",
            "Congratulations! You scored 25 XP\n",
            "\n",
            "what mode do you prefer? \n",
            "write 1 if guess word by variance, write 2 if guess word by letters, write 3 sentence write exit to close program\n",
            "1\n",
            "apple in english, choose variance follow\n",
            "['яблоко', 'красный', 'чернила', 'прятаться']\n",
            "1\n",
            "Excellent! You guessed right, you spent 1 tries\n",
            "once in english, choose variance follow\n",
            "['победа', 'груша', 'зубы', 'однажды']\n",
            "4\n",
            "Excellent! You guessed right, you spent 1 tries\n",
            "neighbour in english, choose variance follow\n",
            "['чернила', 'секунда', 'синий', 'сосед']\n",
            "4\n",
            "Excellent! You guessed right, you spent 1 tries\n",
            "paper in english, choose variance follow\n",
            "['бумага', 'пол', 'брать', 'ананас']\n"
          ],
          "name": "stdout"
        },
        {
          "output_type": "error",
          "ename": "KeyboardInterrupt",
          "evalue": "ignored",
          "traceback": [
            "\u001b[0;31m---------------------------------------------------------------------------\u001b[0m",
            "\u001b[0;31mKeyboardInterrupt\u001b[0m                         Traceback (most recent call last)",
            "\u001b[0;32m/usr/local/lib/python3.6/dist-packages/ipykernel/kernelbase.py\u001b[0m in \u001b[0;36m_input_request\u001b[0;34m(self, prompt, ident, parent, password)\u001b[0m\n\u001b[1;32m    728\u001b[0m             \u001b[0;32mtry\u001b[0m\u001b[0;34m:\u001b[0m\u001b[0;34m\u001b[0m\u001b[0;34m\u001b[0m\u001b[0m\n\u001b[0;32m--> 729\u001b[0;31m                 \u001b[0mident\u001b[0m\u001b[0;34m,\u001b[0m \u001b[0mreply\u001b[0m \u001b[0;34m=\u001b[0m \u001b[0mself\u001b[0m\u001b[0;34m.\u001b[0m\u001b[0msession\u001b[0m\u001b[0;34m.\u001b[0m\u001b[0mrecv\u001b[0m\u001b[0;34m(\u001b[0m\u001b[0mself\u001b[0m\u001b[0;34m.\u001b[0m\u001b[0mstdin_socket\u001b[0m\u001b[0;34m,\u001b[0m \u001b[0;36m0\u001b[0m\u001b[0;34m)\u001b[0m\u001b[0;34m\u001b[0m\u001b[0;34m\u001b[0m\u001b[0m\n\u001b[0m\u001b[1;32m    730\u001b[0m             \u001b[0;32mexcept\u001b[0m \u001b[0mException\u001b[0m\u001b[0;34m:\u001b[0m\u001b[0;34m\u001b[0m\u001b[0;34m\u001b[0m\u001b[0m\n",
            "\u001b[0;32m/usr/local/lib/python3.6/dist-packages/jupyter_client/session.py\u001b[0m in \u001b[0;36mrecv\u001b[0;34m(self, socket, mode, content, copy)\u001b[0m\n\u001b[1;32m    802\u001b[0m         \u001b[0;32mtry\u001b[0m\u001b[0;34m:\u001b[0m\u001b[0;34m\u001b[0m\u001b[0;34m\u001b[0m\u001b[0m\n\u001b[0;32m--> 803\u001b[0;31m             \u001b[0mmsg_list\u001b[0m \u001b[0;34m=\u001b[0m \u001b[0msocket\u001b[0m\u001b[0;34m.\u001b[0m\u001b[0mrecv_multipart\u001b[0m\u001b[0;34m(\u001b[0m\u001b[0mmode\u001b[0m\u001b[0;34m,\u001b[0m \u001b[0mcopy\u001b[0m\u001b[0;34m=\u001b[0m\u001b[0mcopy\u001b[0m\u001b[0;34m)\u001b[0m\u001b[0;34m\u001b[0m\u001b[0;34m\u001b[0m\u001b[0m\n\u001b[0m\u001b[1;32m    804\u001b[0m         \u001b[0;32mexcept\u001b[0m \u001b[0mzmq\u001b[0m\u001b[0;34m.\u001b[0m\u001b[0mZMQError\u001b[0m \u001b[0;32mas\u001b[0m \u001b[0me\u001b[0m\u001b[0;34m:\u001b[0m\u001b[0;34m\u001b[0m\u001b[0;34m\u001b[0m\u001b[0m\n",
            "\u001b[0;32m/usr/local/lib/python3.6/dist-packages/zmq/sugar/socket.py\u001b[0m in \u001b[0;36mrecv_multipart\u001b[0;34m(self, flags, copy, track)\u001b[0m\n\u001b[1;32m    490\u001b[0m         \"\"\"\n\u001b[0;32m--> 491\u001b[0;31m         \u001b[0mparts\u001b[0m \u001b[0;34m=\u001b[0m \u001b[0;34m[\u001b[0m\u001b[0mself\u001b[0m\u001b[0;34m.\u001b[0m\u001b[0mrecv\u001b[0m\u001b[0;34m(\u001b[0m\u001b[0mflags\u001b[0m\u001b[0;34m,\u001b[0m \u001b[0mcopy\u001b[0m\u001b[0;34m=\u001b[0m\u001b[0mcopy\u001b[0m\u001b[0;34m,\u001b[0m \u001b[0mtrack\u001b[0m\u001b[0;34m=\u001b[0m\u001b[0mtrack\u001b[0m\u001b[0;34m)\u001b[0m\u001b[0;34m]\u001b[0m\u001b[0;34m\u001b[0m\u001b[0;34m\u001b[0m\u001b[0m\n\u001b[0m\u001b[1;32m    492\u001b[0m         \u001b[0;31m# have first part already, only loop while more to receive\u001b[0m\u001b[0;34m\u001b[0m\u001b[0;34m\u001b[0m\u001b[0;34m\u001b[0m\u001b[0m\n",
            "\u001b[0;32mzmq/backend/cython/socket.pyx\u001b[0m in \u001b[0;36mzmq.backend.cython.socket.Socket.recv\u001b[0;34m()\u001b[0m\n",
            "\u001b[0;32mzmq/backend/cython/socket.pyx\u001b[0m in \u001b[0;36mzmq.backend.cython.socket.Socket.recv\u001b[0;34m()\u001b[0m\n",
            "\u001b[0;32mzmq/backend/cython/socket.pyx\u001b[0m in \u001b[0;36mzmq.backend.cython.socket._recv_copy\u001b[0;34m()\u001b[0m\n",
            "\u001b[0;32m/usr/local/lib/python3.6/dist-packages/zmq/backend/cython/checkrc.pxd\u001b[0m in \u001b[0;36mzmq.backend.cython.checkrc._check_rc\u001b[0;34m()\u001b[0m\n",
            "\u001b[0;31mKeyboardInterrupt\u001b[0m: ",
            "\nDuring handling of the above exception, another exception occurred:\n",
            "\u001b[0;31mKeyboardInterrupt\u001b[0m                         Traceback (most recent call last)",
            "\u001b[0;32m<ipython-input-20-6f962fab26b7>\u001b[0m in \u001b[0;36m<module>\u001b[0;34m()\u001b[0m\n\u001b[1;32m     10\u001b[0m             \u001b[0mtasks\u001b[0m \u001b[0;34m=\u001b[0m \u001b[0mrandom\u001b[0m\u001b[0;34m.\u001b[0m\u001b[0msample\u001b[0m\u001b[0;34m(\u001b[0m\u001b[0mdb\u001b[0m\u001b[0;34m.\u001b[0m\u001b[0mkeys\u001b[0m\u001b[0;34m(\u001b[0m\u001b[0;34m)\u001b[0m\u001b[0;34m,\u001b[0m \u001b[0;36m5\u001b[0m\u001b[0;34m)\u001b[0m\u001b[0;34m\u001b[0m\u001b[0;34m\u001b[0m\u001b[0m\n\u001b[1;32m     11\u001b[0m             \u001b[0;32mfor\u001b[0m \u001b[0mword\u001b[0m \u001b[0;32min\u001b[0m \u001b[0mtasks\u001b[0m\u001b[0;34m:\u001b[0m\u001b[0;34m\u001b[0m\u001b[0;34m\u001b[0m\u001b[0m\n\u001b[0;32m---> 12\u001b[0;31m                 \u001b[0mXP\u001b[0m \u001b[0;34m+=\u001b[0m \u001b[0mguess_word_by_variance\u001b[0m\u001b[0;34m(\u001b[0m\u001b[0mword\u001b[0m\u001b[0;34m)\u001b[0m\u001b[0;34m\u001b[0m\u001b[0;34m\u001b[0m\u001b[0m\n\u001b[0m\u001b[1;32m     13\u001b[0m         \u001b[0;32melif\u001b[0m \u001b[0mmode\u001b[0m \u001b[0;34m==\u001b[0m \u001b[0;34m'2'\u001b[0m\u001b[0;34m:\u001b[0m\u001b[0;34m\u001b[0m\u001b[0;34m\u001b[0m\u001b[0m\n\u001b[1;32m     14\u001b[0m             \u001b[0mtasks\u001b[0m \u001b[0;34m=\u001b[0m \u001b[0mrandom\u001b[0m\u001b[0;34m.\u001b[0m\u001b[0msample\u001b[0m\u001b[0;34m(\u001b[0m\u001b[0mdb\u001b[0m\u001b[0;34m.\u001b[0m\u001b[0mkeys\u001b[0m\u001b[0;34m(\u001b[0m\u001b[0;34m)\u001b[0m\u001b[0;34m,\u001b[0m \u001b[0;36m5\u001b[0m\u001b[0;34m)\u001b[0m\u001b[0;34m\u001b[0m\u001b[0;34m\u001b[0m\u001b[0m\n",
            "\u001b[0;32m<ipython-input-7-25685c7b7d21>\u001b[0m in \u001b[0;36mguess_word_by_variance\u001b[0;34m(word)\u001b[0m\n\u001b[1;32m      6\u001b[0m     \u001b[0mprint\u001b[0m\u001b[0;34m(\u001b[0m\u001b[0msome_words\u001b[0m\u001b[0;34m)\u001b[0m\u001b[0;34m\u001b[0m\u001b[0;34m\u001b[0m\u001b[0m\n\u001b[1;32m      7\u001b[0m     \u001b[0;32mwhile\u001b[0m \u001b[0;32mTrue\u001b[0m\u001b[0;34m:\u001b[0m\u001b[0;34m\u001b[0m\u001b[0;34m\u001b[0m\u001b[0m\n\u001b[0;32m----> 8\u001b[0;31m         \u001b[0manswer\u001b[0m \u001b[0;34m=\u001b[0m \u001b[0minput\u001b[0m\u001b[0;34m(\u001b[0m\u001b[0;34m)\u001b[0m\u001b[0;34m\u001b[0m\u001b[0;34m\u001b[0m\u001b[0m\n\u001b[0m\u001b[1;32m      9\u001b[0m         \u001b[0;32mif\u001b[0m \u001b[0manswer\u001b[0m \u001b[0;34m==\u001b[0m \u001b[0mdb\u001b[0m\u001b[0;34m[\u001b[0m\u001b[0mword\u001b[0m\u001b[0;34m]\u001b[0m \u001b[0;32mor\u001b[0m \u001b[0manswer\u001b[0m \u001b[0;34m==\u001b[0m \u001b[0mstr\u001b[0m\u001b[0;34m(\u001b[0m\u001b[0msome_words\u001b[0m\u001b[0;34m.\u001b[0m\u001b[0mindex\u001b[0m\u001b[0;34m(\u001b[0m\u001b[0mdb\u001b[0m\u001b[0;34m[\u001b[0m\u001b[0mword\u001b[0m\u001b[0;34m]\u001b[0m\u001b[0;34m)\u001b[0m \u001b[0;34m+\u001b[0m \u001b[0;36m1\u001b[0m\u001b[0;34m)\u001b[0m\u001b[0;34m:\u001b[0m\u001b[0;34m\u001b[0m\u001b[0;34m\u001b[0m\u001b[0m\n\u001b[1;32m     10\u001b[0m             \u001b[0mprint\u001b[0m\u001b[0;34m(\u001b[0m\u001b[0;34m\"Excellent! You guessed right, you spent\"\u001b[0m\u001b[0;34m,\u001b[0m \u001b[0mstr\u001b[0m\u001b[0;34m(\u001b[0m\u001b[0;36m5\u001b[0m \u001b[0;34m-\u001b[0m \u001b[0mmax_XP\u001b[0m \u001b[0;34m+\u001b[0m \u001b[0;36m1\u001b[0m\u001b[0;34m)\u001b[0m\u001b[0;34m,\u001b[0m \u001b[0;34m\"tries\"\u001b[0m\u001b[0;34m)\u001b[0m\u001b[0;34m\u001b[0m\u001b[0;34m\u001b[0m\u001b[0m\n",
            "\u001b[0;32m/usr/local/lib/python3.6/dist-packages/ipykernel/kernelbase.py\u001b[0m in \u001b[0;36mraw_input\u001b[0;34m(self, prompt)\u001b[0m\n\u001b[1;32m    702\u001b[0m             \u001b[0mself\u001b[0m\u001b[0;34m.\u001b[0m\u001b[0m_parent_ident\u001b[0m\u001b[0;34m,\u001b[0m\u001b[0;34m\u001b[0m\u001b[0;34m\u001b[0m\u001b[0m\n\u001b[1;32m    703\u001b[0m             \u001b[0mself\u001b[0m\u001b[0;34m.\u001b[0m\u001b[0m_parent_header\u001b[0m\u001b[0;34m,\u001b[0m\u001b[0;34m\u001b[0m\u001b[0;34m\u001b[0m\u001b[0m\n\u001b[0;32m--> 704\u001b[0;31m             \u001b[0mpassword\u001b[0m\u001b[0;34m=\u001b[0m\u001b[0;32mFalse\u001b[0m\u001b[0;34m,\u001b[0m\u001b[0;34m\u001b[0m\u001b[0;34m\u001b[0m\u001b[0m\n\u001b[0m\u001b[1;32m    705\u001b[0m         )\n\u001b[1;32m    706\u001b[0m \u001b[0;34m\u001b[0m\u001b[0m\n",
            "\u001b[0;32m/usr/local/lib/python3.6/dist-packages/ipykernel/kernelbase.py\u001b[0m in \u001b[0;36m_input_request\u001b[0;34m(self, prompt, ident, parent, password)\u001b[0m\n\u001b[1;32m    732\u001b[0m             \u001b[0;32mexcept\u001b[0m \u001b[0mKeyboardInterrupt\u001b[0m\u001b[0;34m:\u001b[0m\u001b[0;34m\u001b[0m\u001b[0;34m\u001b[0m\u001b[0m\n\u001b[1;32m    733\u001b[0m                 \u001b[0;31m# re-raise KeyboardInterrupt, to truncate traceback\u001b[0m\u001b[0;34m\u001b[0m\u001b[0;34m\u001b[0m\u001b[0;34m\u001b[0m\u001b[0m\n\u001b[0;32m--> 734\u001b[0;31m                 \u001b[0;32mraise\u001b[0m \u001b[0mKeyboardInterrupt\u001b[0m\u001b[0;34m\u001b[0m\u001b[0;34m\u001b[0m\u001b[0m\n\u001b[0m\u001b[1;32m    735\u001b[0m             \u001b[0;32melse\u001b[0m\u001b[0;34m:\u001b[0m\u001b[0;34m\u001b[0m\u001b[0;34m\u001b[0m\u001b[0m\n\u001b[1;32m    736\u001b[0m                 \u001b[0;32mbreak\u001b[0m\u001b[0;34m\u001b[0m\u001b[0;34m\u001b[0m\u001b[0m\n",
            "\u001b[0;31mKeyboardInterrupt\u001b[0m: "
          ]
        }
      ]
    },
    {
      "cell_type": "code",
      "metadata": {
        "id": "FpyKry0mAoMq"
      },
      "source": [
        "path_db = \"/content/gdrive/My Drive/COLAB_INAL/CLASS_WORKS/db_en_ru.txt\""
      ],
      "execution_count": 9,
      "outputs": []
    },
    {
      "cell_type": "code",
      "metadata": {
        "id": "mpmgd4SK7egz"
      },
      "source": [
        "a = \"\"\n",
        "for i in db:\n",
        "  a = a + i + \"-\" + db[i] + \"\\n\"\n",
        "with open(path_db, \"w\") as f:\n",
        "  f.write(a)"
      ],
      "execution_count": 10,
      "outputs": []
    },
    {
      "cell_type": "code",
      "metadata": {
        "id": "oxpmqPFLvCWX"
      },
      "source": [
        ""
      ],
      "execution_count": null,
      "outputs": []
    },
    {
      "cell_type": "code",
      "metadata": {
        "id": "FItZUcJjNFol"
      },
      "source": [
        "def load_db():\n",
        "    path_db = \"/content/gdrive/My Drive/COLAB_INAL/CLASS_WORKS/db_en_ru.txt\"\n",
        "    db = {}\n",
        "    with open(path_db, \"r\") as f:\n",
        "        k = f.read()\n",
        "    c = k.split('\\n')[: -1]\n",
        "    for i in c:\n",
        "        kluch = i.split('-')[0]\n",
        "        znach = i.split('-')[1]\n",
        "        db[kluch] = znach\n",
        "    return db\n"
      ],
      "execution_count": 11,
      "outputs": []
    },
    {
      "cell_type": "code",
      "metadata": {
        "id": "e4HQVXOvOfrj",
        "outputId": "a072bf25-49a3-424f-aefe-f8ece0feddfb",
        "colab": {
          "base_uri": "https://localhost:8080/",
          "height": 992
        }
      },
      "source": [
        "load_db()"
      ],
      "execution_count": 12,
      "outputs": [
        {
          "output_type": "execute_result",
          "data": {
            "text/plain": [
              "{'apple': 'яблоко',\n",
              " 'bag': 'сумка',\n",
              " 'ball': 'мяч',\n",
              " 'blue': 'синий',\n",
              " 'book': 'книга',\n",
              " 'box': 'коробка',\n",
              " 'boy': 'мальчик',\n",
              " 'bus': 'автобус',\n",
              " 'car': 'машина',\n",
              " 'color': 'цвет',\n",
              " 'data': 'дата',\n",
              " 'desk': 'парта',\n",
              " 'do': 'делать',\n",
              " 'dour': 'дверь',\n",
              " 'else': 'иначе',\n",
              " 'ereser': 'резинка',\n",
              " 'feed': 'кормить',\n",
              " 'floor': 'пол',\n",
              " 'four': 'четыре',\n",
              " 'get': 'брать',\n",
              " 'give': 'дай',\n",
              " 'group': 'группа',\n",
              " 'have': 'иметь',\n",
              " 'hide': 'прятаться',\n",
              " 'horse': 'лошадь',\n",
              " 'icecrem': 'мороженное',\n",
              " 'if': 'если',\n",
              " 'inc': 'чернила',\n",
              " 'july': 'июль',\n",
              " 'key': 'ключ',\n",
              " 'march': 'март',\n",
              " 'mountain': 'гора',\n",
              " 'mouse': 'мышка',\n",
              " 'music': 'музыка',\n",
              " 'my': 'мое',\n",
              " 'name': 'имя',\n",
              " 'neighbour': 'сосед',\n",
              " 'next': 'следующий',\n",
              " 'once': 'однажды',\n",
              " 'or': 'или',\n",
              " 'orange': 'апельсин',\n",
              " 'paper': 'бумага',\n",
              " 'pear': 'груша',\n",
              " 'pen': 'ручка',\n",
              " 'pineappe': 'ананас',\n",
              " 'red': 'красный',\n",
              " 'second': 'секунда',\n",
              " 'seek': 'искать',\n",
              " 'shocolate': 'шоколад',\n",
              " 'sleep': 'спать',\n",
              " 'street': 'улица',\n",
              " 'sweet': 'конфета',\n",
              " 'teacher': 'учитель',\n",
              " 'tooth': 'зубы',\n",
              " 'wall': 'стена',\n",
              " 'white': 'белый',\n",
              " 'who': 'кто',\n",
              " 'why': 'почему',\n",
              " 'win': 'победа',\n",
              " 'yellow': 'желтый'}"
            ]
          },
          "metadata": {
            "tags": []
          },
          "execution_count": 12
        }
      ]
    },
    {
      "cell_type": "code",
      "metadata": {
        "id": "ewb3yRNrOqxv"
      },
      "source": [
        "#¯\\_(ツ)_/¯"
      ],
      "execution_count": null,
      "outputs": []
    },
    {
      "cell_type": "code",
      "metadata": {
        "id": "v9IMI29sOw86"
      },
      "source": [
        "#( ͡ᵔ ͜ʖ ͡ᵔ )"
      ],
      "execution_count": null,
      "outputs": []
    },
    {
      "cell_type": "code",
      "metadata": {
        "id": "YYXiiH11Mjr9"
      },
      "source": [
        " ━╤デ╦︻(▀̿̿Ĺ̯̿̿▀̿ ̿) (•ᴥ•)"
      ],
      "execution_count": null,
      "outputs": []
    }
  ]
}